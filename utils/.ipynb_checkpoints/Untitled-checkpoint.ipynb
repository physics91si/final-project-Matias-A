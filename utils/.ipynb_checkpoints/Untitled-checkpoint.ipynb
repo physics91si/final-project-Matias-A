{
 "cells": [
  {
   "cell_type": "code",
   "execution_count": 7,
   "metadata": {},
   "outputs": [],
   "source": [
    "# import common libraries\n",
    "import numpy as np\n",
    "\n",
    "import os, sys\n",
    "sys.path.append(\"/Users/matias/Documents/School/Classes/Freshman/phys91si/final-project-Matias-A\")\n",
    "\n",
    "#import files from parent folder\n",
    "from minefield import Minefield\n"
   ]
  },
  {
   "cell_type": "code",
   "execution_count": 148,
   "metadata": {},
   "outputs": [
    {
     "name": "stdout",
     "output_type": "stream",
     "text": [
      "(16, 16)\n",
      "40\n"
     ]
    }
   ],
   "source": [
    "N = 1\n",
    "\n",
    "def random():\n",
    "    field = Minefield(2)\n",
    "    shape = field.get_size()\n",
    "    return field, shape\n",
    "\n",
    "field, shape = random()\n",
    "print(shape)\n",
    "print(field.get_mines())"
   ]
  },
  {
   "cell_type": "code",
   "execution_count": 149,
   "metadata": {},
   "outputs": [
    {
     "name": "stdout",
     "output_type": "stream",
     "text": [
      "24\n",
      "1\n",
      "2\n",
      "3\n",
      "[(9, 2), (9, 3), (10, 1), (10, 3), (11, 1), (11, 2), (11, 3)]\n",
      "4\n",
      "[(9, 3), (10, 1), (10, 3), (11, 1), (11, 2), (11, 3)]\n",
      "5\n",
      "[(10, 1), (10, 3), (11, 1), (11, 2), (11, 3)]\n",
      "6\n",
      "[(10, 3), (11, 1), (11, 2), (11, 3)]\n",
      "7\n",
      "[(11, 1), (11, 2), (11, 3)]\n",
      "8\n",
      "[(11, 2), (11, 3)]\n",
      "9\n",
      "[(11, 3)]\n",
      "10\n",
      "[(12, 1), (12, 2), (12, 3)]\n",
      "11\n",
      "[(12, 2), (12, 3)]\n",
      "12\n",
      "[(12, 3), (11, 0), (12, 0), (13, 0), (13, 1), (13, 2)]\n",
      "13\n",
      "[(11, 0), (12, 0), (13, 0), (13, 1), (13, 2), (13, 3)]\n",
      "14\n",
      "[(12, 0), (13, 0), (13, 1), (13, 2), (13, 3), (11, 4), (12, 4), (13, 4)]\n",
      "15\n",
      "[(13, 0), (13, 1), (13, 2), (13, 3), (11, 4), (12, 4), (13, 4)]\n",
      "16\n",
      "[(13, 1), (13, 2), (13, 3), (11, 4), (12, 4), (13, 4)]\n",
      "17\n",
      "[(13, 2), (13, 3), (11, 4), (12, 4), (13, 4)]\n",
      "18\n",
      "[(13, 3), (11, 4), (12, 4), (13, 4)]\n",
      "19\n",
      "[(11, 4), (12, 4), (13, 4), (14, 1), (14, 2), (14, 3)]\n",
      "20\n",
      "[(12, 4), (13, 4), (14, 1), (14, 2), (14, 3)]\n",
      "21\n",
      "[(13, 4), (14, 1), (14, 2), (14, 3)]\n",
      "22\n",
      "[(14, 1), (14, 2), (14, 3), (11, 5), (12, 5), (13, 5)]\n",
      "23\n",
      "[(14, 2), (14, 3), (11, 5), (12, 5), (13, 5)]\n",
      "24\n",
      "[(14, 3), (11, 5), (12, 5), (13, 5)]\n",
      "25\n",
      "[(11, 5), (12, 5), (13, 5), (15, 1), (15, 2), (15, 3)]\n",
      "26\n",
      "[(12, 5), (13, 5), (15, 1), (15, 2), (15, 3)]\n",
      "27\n",
      "[(13, 5), (15, 1), (15, 2), (15, 3)]\n",
      "28\n",
      "[(15, 1), (15, 2), (15, 3)]\n",
      "29\n",
      "[(15, 2), (15, 3)]\n",
      "30\n",
      "[(15, 3)]\n",
      "31\n",
      "[]\n",
      "32\n",
      "done\n"
     ]
    },
    {
     "ename": "IndexError",
     "evalue": "index 1 is out of bounds for axis 0 with size 1",
     "output_type": "error",
     "traceback": [
      "\u001b[0;31m---------------------------------------------------------------------------\u001b[0m",
      "\u001b[0;31mIndexError\u001b[0m                                Traceback (most recent call last)",
      "\u001b[0;32m<ipython-input-149-62196139fdd0>\u001b[0m in \u001b[0;36m<module>\u001b[0;34m()\u001b[0m\n\u001b[1;32m     51\u001b[0m     \u001b[0;32mprint\u001b[0m\u001b[0;34m(\u001b[0m\u001b[0mY\u001b[0m\u001b[0;34m)\u001b[0m\u001b[0;34m\u001b[0m\u001b[0m\n\u001b[1;32m     52\u001b[0m \u001b[0;34m\u001b[0m\u001b[0m\n\u001b[0;32m---> 53\u001b[0;31m \u001b[0mmakeData\u001b[0m\u001b[0;34m(\u001b[0m\u001b[0;34m)\u001b[0m\u001b[0;34m\u001b[0m\u001b[0m\n\u001b[0m",
      "\u001b[0;32m<ipython-input-149-62196139fdd0>\u001b[0m in \u001b[0;36mmakeData\u001b[0;34m()\u001b[0m\n\u001b[1;32m     46\u001b[0m             \u001b[0mY\u001b[0m\u001b[0;34m[\u001b[0m\u001b[0mi\u001b[0m\u001b[0;34m,\u001b[0m\u001b[0;36m0\u001b[0m\u001b[0;34m]\u001b[0m\u001b[0;34m=\u001b[0m\u001b[0;36m1\u001b[0m\u001b[0;34m\u001b[0m\u001b[0m\n\u001b[1;32m     47\u001b[0m         \u001b[0;32melse\u001b[0m\u001b[0;34m:\u001b[0m\u001b[0;34m\u001b[0m\u001b[0m\n\u001b[0;32m---> 48\u001b[0;31m             \u001b[0mY\u001b[0m\u001b[0;34m[\u001b[0m\u001b[0mi\u001b[0m\u001b[0;34m,\u001b[0m\u001b[0;36m0\u001b[0m\u001b[0;34m]\u001b[0m\u001b[0;34m=\u001b[0m\u001b[0;36m0\u001b[0m\u001b[0;34m\u001b[0m\u001b[0m\n\u001b[0m\u001b[1;32m     49\u001b[0m \u001b[0;34m\u001b[0m\u001b[0m\n\u001b[1;32m     50\u001b[0m     \u001b[0;32mprint\u001b[0m\u001b[0;34m(\u001b[0m\u001b[0mX\u001b[0m\u001b[0;34m[\u001b[0m\u001b[0;36m0\u001b[0m\u001b[0;34m,\u001b[0m \u001b[0;34m:\u001b[0m\u001b[0;34m,\u001b[0m \u001b[0;34m:\u001b[0m\u001b[0;34m]\u001b[0m\u001b[0;34m)\u001b[0m\u001b[0;34m\u001b[0m\u001b[0m\n",
      "\u001b[0;31mIndexError\u001b[0m: index 1 is out of bounds for axis 0 with size 1"
     ]
    }
   ],
   "source": [
    "def makeData():\n",
    "    X = np.zeros((N,5,5))\n",
    "    Y = np.zeros((N,1))\n",
    "    for i in range(N):\n",
    "        field, shape = random()\n",
    "        prob = 1-np.random.power(1)\n",
    "        numberguessed = int(prob*(shape[0]*shape[1]-field.get_mines()))\n",
    "        print(numberguessed)\n",
    "        toCheck = []\n",
    "        guesses = np.full(shape,-1)\n",
    "        guessed = []\n",
    "        while True:\n",
    "            if len(toCheck)!=0:\n",
    "                coord = toCheck[0]\n",
    "                toCheck.remove(coord)\n",
    "                print(toCheck)\n",
    "            else:\n",
    "                coord = (np.random.randint(0,shape[0]),np.random.randint(0,shape[1]))\n",
    "                if coord in guessed:\n",
    "                    continue\n",
    "            \n",
    "            \n",
    "            value = field.guess(coord[0],coord[1])\n",
    "            if value == -1:\n",
    "                continue\n",
    "            guessed.append(coord)\n",
    "            print(len(guessed))\n",
    "            guesses[coord]=value\n",
    "            if value == 0:\n",
    "                for i in range(-1,2):\n",
    "                        for j in range(-1,2):\n",
    "                            newx = i+coord[0]\n",
    "                            newy = j+coord[1]\n",
    "                            if newx<0 or newy<0 or newx>=shape[0] or newy>=shape[1]:\n",
    "                                continue\n",
    "                            if (newx, newy) not in guessed and (newx, newy) not in toCheck:\n",
    "                                toCheck.append((newx,newy))\n",
    "            if len(guessed)>=numberguessed and len(toCheck)==0:\n",
    "                break\n",
    "            \n",
    "   \n",
    "            \n",
    "        print(\"done\")\n",
    "        yval = field.guess(coord[0],coord[1])\n",
    "        if yval == -1:\n",
    "            Y[i,0]=1\n",
    "        else:\n",
    "            Y[i,0]=0   \n",
    "                    \n",
    "    print(X[0, :, :])\n",
    "    print(Y)\n",
    "    \n",
    "makeData()"
   ]
  },
  {
   "cell_type": "code",
   "execution_count": null,
   "metadata": {},
   "outputs": [],
   "source": []
  },
  {
   "cell_type": "markdown",
   "metadata": {},
   "source": []
  }
 ],
 "metadata": {
  "kernelspec": {
   "display_name": "Python 3",
   "language": "python",
   "name": "python3"
  },
  "language_info": {
   "codemirror_mode": {
    "name": "ipython",
    "version": 2
   },
   "file_extension": ".py",
   "mimetype": "text/x-python",
   "name": "python",
   "nbconvert_exporter": "python",
   "pygments_lexer": "ipython2",
   "version": "2.7.14"
  }
 },
 "nbformat": 4,
 "nbformat_minor": 2
}
