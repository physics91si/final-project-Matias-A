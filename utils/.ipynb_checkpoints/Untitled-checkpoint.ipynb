{
 "cells": [
  {
   "cell_type": "code",
   "execution_count": 7,
   "metadata": {},
   "outputs": [],
   "source": [
    "# import common libraries\n",
    "import numpy as np\n",
    "\n",
    "import os, sys\n",
    "sys.path.append(\"/Users/matias/Documents/School/Classes/Freshman/phys91si/final-project-Matias-A\")\n",
    "\n",
    "#import files from parent folder\n",
    "from minefield import Minefield\n"
   ]
  },
  {
   "cell_type": "code",
   "execution_count": 8,
   "metadata": {},
   "outputs": [],
   "source": [
    "N = 10\n",
    "\n",
    "def random():\n",
    "    field = Minefield(3)\n",
    "    shape = field.get_size()\n",
    "    return field, shape"
   ]
  },
  {
   "cell_type": "code",
   "execution_count": 18,
   "metadata": {},
   "outputs": [
    {
     "name": "stdout",
     "output_type": "stream",
     "text": [
      "[[ 0.          0.          0.          0.          0.        ]\n",
      " [ 0.          0.          0.          0.          0.        ]\n",
      " [ 0.          0.         -0.03593466  0.          0.        ]\n",
      " [ 0.          0.          0.          0.          0.        ]\n",
      " [ 0.          0.          0.          0.          0.        ]]\n"
     ]
    }
   ],
   "source": [
    "def makeData():\n",
    "    X = np.zeros((N,5,5))\n",
    "    Y = np.zeros((N,1))\n",
    "    for i in range(N):\n",
    "        field, shape = random()\n",
    "        numberguessed = int(np.random.pareto(1)*(shape[0]*shape[1]-field.get_mines()))\n",
    "        coord = (np.random.randint(0,shape[0]),np.random.randint(0,shape[1]))\n",
    "        for j in range(-2,3):\n",
    "            for k in range(-2,3):\n",
    "                outbounds = j+coord[0]<0 or k+coord[1]<0 or j+coord[0]>=shape[0] or k+coord[1]>=shape[1]\n",
    "                \n",
    "                if outbounds:\n",
    "                    pass\n",
    "                    #print(str(j+coord[0]) + str(k+coord[1]))\n",
    "                elif j==0 and k==0:\n",
    "                    X[i,2,2]= float(field.get_mines())/(shape[0]*shape[1]-numberguessed)\n",
    "    print(X[0, :, :])\n",
    "    \n",
    "makeData()"
   ]
  },
  {
   "cell_type": "code",
   "execution_count": null,
   "metadata": {},
   "outputs": [],
   "source": []
  },
  {
   "cell_type": "markdown",
   "metadata": {},
   "source": []
  }
 ],
 "metadata": {
  "kernelspec": {
   "display_name": "Python 3",
   "language": "python",
   "name": "python3"
  },
  "language_info": {
   "codemirror_mode": {
    "name": "ipython",
    "version": 2
   },
   "file_extension": ".py",
   "mimetype": "text/x-python",
   "name": "python",
   "nbconvert_exporter": "python",
   "pygments_lexer": "ipython2",
   "version": "2.7.14"
  }
 },
 "nbformat": 4,
 "nbformat_minor": 2
}
