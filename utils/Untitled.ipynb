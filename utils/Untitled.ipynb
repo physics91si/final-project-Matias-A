{
 "cells": [
  {
   "cell_type": "code",
   "execution_count": 7,
   "metadata": {},
   "outputs": [],
   "source": [
    "# import common libraries\n",
    "import numpy as np\n",
    "\n",
    "import os, sys\n",
    "sys.path.append(\"/Users/matias/Documents/School/Classes/Freshman/phys91si/final-project-Matias-A\")\n",
    "\n",
    "#import files from parent folder\n",
    "from minefield import Minefield\n"
   ]
  },
  {
   "cell_type": "code",
   "execution_count": 154,
   "metadata": {},
   "outputs": [
    {
     "name": "stdout",
     "output_type": "stream",
     "text": [
      "(16, 16)\n",
      "40\n"
     ]
    }
   ],
   "source": [
    "N = 5\n",
    "\n",
    "def random():\n",
    "    field = Minefield(2)\n",
    "    shape = field.get_size()\n",
    "    return field, shape\n",
    "\n",
    "field, shape = random()\n",
    "print(shape)\n",
    "print(field.get_mines())"
   ]
  },
  {
   "cell_type": "code",
   "execution_count": 185,
   "metadata": {},
   "outputs": [],
   "source": [
    "def make5x5(guesses, coord):\n",
    "    shape = guesses.shape\n",
    "    arr = np.full((5,5),-1)\n",
    "    for i in range(-2,3):\n",
    "        for j in range(-2,3):\n",
    "            newx = i+coord[0]\n",
    "            newy = j+coord[1]\n",
    "            if newx<0 or newy<0 or newx>=shape[0] or newy>=shape[1]:\n",
    "                arr[i+2,j+2]=-1\n",
    "            else: \n",
    "                arr[i+2,j+2] = guesses[newx,newy]\n",
    "    return arr"
   ]
  },
  {
   "cell_type": "code",
   "execution_count": 191,
   "metadata": {},
   "outputs": [
    {
     "name": "stdout",
     "output_type": "stream",
     "text": [
      "0\n",
      "1\n",
      "2\n",
      "3\n",
      "4\n",
      "[[-1.        -1.        -1.        -1.        -1.       ]\n",
      " [-1.        -1.        -1.        -1.        -1.       ]\n",
      " [-1.        -1.         0.2247191 -1.        -1.       ]\n",
      " [-1.        -1.        -1.        -1.        -1.       ]\n",
      " [-1.        -1.        -1.        -1.        -1.       ]]\n",
      "[[0.]\n",
      " [0.]\n",
      " [0.]\n",
      " [0.]\n",
      " [1.]]\n"
     ]
    }
   ],
   "source": [
    "def makeData(N=N):\n",
    "    X = np.zeros((N,5,5))\n",
    "    Y = np.zeros((N,1))\n",
    "    for i in range(N):\n",
    "        print(i)\n",
    "        field, shape = random()\n",
    "        prob = 1-np.random.power(1)\n",
    "        numberguessed = int(prob*(shape[0]*shape[1]-field.get_mines()))\n",
    "        toCheck = []\n",
    "        guesses = np.full(shape,-1)\n",
    "        guessed = []\n",
    "        while True:\n",
    "            if len(toCheck)!=0:\n",
    "                coord = toCheck[0]\n",
    "                toCheck.remove(coord)\n",
    "            else:\n",
    "                coord = (np.random.randint(0,shape[0]),np.random.randint(0,shape[1]))\n",
    "                if coord in guessed:\n",
    "                    continue\n",
    "            \n",
    "            \n",
    "            value = field.guess(coord[0],coord[1])\n",
    "            if value == -1:\n",
    "                continue\n",
    "            guessed.append(coord)\n",
    "            guesses[coord]=value\n",
    "            if value == 0:\n",
    "                for k in range(-1,2):\n",
    "                        for l in range(-1,2):\n",
    "                            newx = k+coord[0]\n",
    "                            newy = l+coord[1]\n",
    "                            if newx<0 or newy<0 or newx>=shape[0] or newy>=shape[1]:\n",
    "                                continue\n",
    "                            if (newx, newy) not in guessed and (newx, newy) not in toCheck:\n",
    "                                toCheck.append((newx,newy))\n",
    "            if len(guessed)>=numberguessed and len(toCheck)==0:\n",
    "                break\n",
    "            \n",
    "   \n",
    "        coord = (np.random.randint(0,shape[0]),np.random.randint(0,shape[1]))\n",
    "        while coord in guessed:\n",
    "            coord = (np.random.randint(0,shape[0]),np.random.randint(0,shape[1]))\n",
    "        X[i,:,:] = make5x5(guesses, coord)\n",
    "        X[i,2,2] = float(field.get_mines())/(shape[0]*shape[1]-numberguessed)\n",
    "        yval = field.guess(coord[0],coord[1])\n",
    "        if yval == -1:\n",
    "            Y[i,0]=1\n",
    "        else:\n",
    "            Y[i,0]=0   \n",
    "                    \n",
    "    print(X[0, :, :])\n",
    "    print(Y)\n",
    "    \n",
    "makeData()"
   ]
  },
  {
   "cell_type": "code",
   "execution_count": null,
   "metadata": {},
   "outputs": [],
   "source": []
  },
  {
   "cell_type": "markdown",
   "metadata": {},
   "source": []
  }
 ],
 "metadata": {
  "kernelspec": {
   "display_name": "Python 3",
   "language": "python",
   "name": "python3"
  },
  "language_info": {
   "codemirror_mode": {
    "name": "ipython",
    "version": 2
   },
   "file_extension": ".py",
   "mimetype": "text/x-python",
   "name": "python",
   "nbconvert_exporter": "python",
   "pygments_lexer": "ipython2",
   "version": "2.7.14"
  }
 },
 "nbformat": 4,
 "nbformat_minor": 2
}
