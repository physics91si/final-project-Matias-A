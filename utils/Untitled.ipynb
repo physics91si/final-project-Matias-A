{
 "cells": [
  {
   "cell_type": "code",
   "execution_count": 7,
   "metadata": {},
   "outputs": [],
   "source": [
    "# import common libraries\n",
    "import numpy as np\n",
    "\n",
    "import os, sys\n",
    "sys.path.append(\"/Users/matias/Documents/School/Classes/Freshman/phys91si/final-project-Matias-A\")\n",
    "\n",
    "#import files from parent folder\n",
    "from minefield import Minefield\n"
   ]
  },
  {
   "cell_type": "code",
   "execution_count": 117,
   "metadata": {},
   "outputs": [
    {
     "name": "stdout",
     "output_type": "stream",
     "text": [
      "(16, 16)\n",
      "40\n"
     ]
    }
   ],
   "source": [
    "N = 1\n",
    "\n",
    "def random():\n",
    "    field = Minefield(2)\n",
    "    shape = field.get_size()\n",
    "    return field, shape\n",
    "\n",
    "field, shape = random()\n",
    "print(shape)\n",
    "print(field.get_mines())"
   ]
  },
  {
   "cell_type": "code",
   "execution_count": 133,
   "metadata": {},
   "outputs": [
    {
     "name": "stdout",
     "output_type": "stream",
     "text": [
      "[[ 0.25316456  1.          0.25316456 -1.         -1.        ]\n",
      " [ 0.25316456  0.25316456  0.25316456 -1.         -1.        ]\n",
      " [ 1.          1.          0.25316456 -1.         -1.        ]\n",
      " [ 0.          0.25316456  0.25316456 -1.         -1.        ]\n",
      " [ 1.          0.25316456  0.25316456 -1.         -1.        ]]\n",
      "[[0.]]\n"
     ]
    }
   ],
   "source": [
    "def makeData():\n",
    "    X = np.zeros((N,5,5))\n",
    "    Y = np.zeros((N,1))\n",
    "    for i in range(N):\n",
    "        while True: \n",
    "            fail = False\n",
    "            field, shape = random()\n",
    "            prob = 1-np.random.power(1)\n",
    "            numberguessed = int(prob*(shape[0]*shape[1]-field.get_mines()))\n",
    "            coord = (np.random.randint(0,shape[0]),np.random.randint(0,shape[1]))\n",
    "            for j in range(-2,3):\n",
    "                for k in range(-2,3):\n",
    "                    outbounds = j+coord[0]<0 or k+coord[1]<0 or j+coord[0]>=shape[0] or k+coord[1]>=shape[1]\n",
    "                    c0,c1 = j+2,k+2\n",
    "                    X[i,c0,c1] = float(field.get_mines())/(shape[0]*shape[1]-numberguessed)\n",
    "                    if outbounds:\n",
    "                        X[i,c0,c1] = -1\n",
    "                    elif j==0 and k==0:\n",
    "                        X[i,c0,c1]= float(field.get_mines())/(shape[0]*shape[1]-numberguessed)\n",
    "                    elif np.random.rand() < prob:\n",
    "                        value = field.guess(j+coord[0],k+coord[1])\n",
    "                        if value == -1:\n",
    "                            fail = True\n",
    "                        X[i,c0,c1] = value\n",
    "             \n",
    "            yval = field.guess(coord[0],coord[1])\n",
    "            if yval == -1:\n",
    "                Y[i,0]=1\n",
    "            else:\n",
    "                Y[i,0]=0\n",
    "            if not fail:\n",
    "                break\n",
    "                        \n",
    "                    \n",
    "    print(X[0, :, :])\n",
    "    print(Y)\n",
    "    \n",
    "makeData()"
   ]
  },
  {
   "cell_type": "code",
   "execution_count": null,
   "metadata": {},
   "outputs": [],
   "source": []
  },
  {
   "cell_type": "markdown",
   "metadata": {},
   "source": []
  }
 ],
 "metadata": {
  "kernelspec": {
   "display_name": "Python 3",
   "language": "python",
   "name": "python3"
  },
  "language_info": {
   "codemirror_mode": {
    "name": "ipython",
    "version": 2
   },
   "file_extension": ".py",
   "mimetype": "text/x-python",
   "name": "python",
   "nbconvert_exporter": "python",
   "pygments_lexer": "ipython2",
   "version": "2.7.14"
  }
 },
 "nbformat": 4,
 "nbformat_minor": 2
}
