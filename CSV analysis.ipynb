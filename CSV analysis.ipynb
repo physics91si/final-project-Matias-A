{
 "cells": [
  {
   "cell_type": "code",
   "execution_count": 1,
   "metadata": {},
   "outputs": [],
   "source": [
    "import numpy as np\n",
    "import matplotlib.pyplot as plt\n",
    "from scipy.optimize import curve_fit"
   ]
  },
  {
   "cell_type": "code",
   "execution_count": 45,
   "metadata": {},
   "outputs": [
    {
     "data": {
      "text/plain": [
       "(array([ 166.,  211.,  226.,  234.,  248.,  253.,  263.,  269.,  277.,\n",
       "         281.,  284.,  291.,  296.,  299.,  302.,  307.,  309.,  314.,\n",
       "         316.,  323.,  325.,  328.,  330.,  333.,  337.,  340.,  341.,\n",
       "         342.,  343.,  343.,  348.,  349.,  352.,  356.,  359.,  359.,\n",
       "         361.,  362.,  365.,  366.,  368.,  369.,  370.,  371.,  373.,\n",
       "         373.,  375.,  376.,  378.,  378.,  378.,  378.,  379.,  379.,\n",
       "         381.,  383.,  385.,  385.,  385.,  386.,  387.,  388.,  390.,\n",
       "         390.,  390.,  390.,  391.,  393.,  395.,  395.,  396.,  397.,\n",
       "         398.,  398.,  400.,  400.,  401.,  401.,  402.,  402.,  402.,\n",
       "         403.,  404.,  406.,  406.,  406.,  406.,  406.,  406.,  406.,\n",
       "         406.,  407.,  408.,  409.,  409.,  409.,  409.,  409.,  409.,\n",
       "         410.,  410.,  410.,  410.,  410.,  410.,  410.,  410.,  410.,\n",
       "         411.,  411.,  411.,  411.,  411.,  412.,  412.,  414.,  415.,\n",
       "         416.,  417.,  418.,  418.,  418.,  419.,  420.,  420.,  420.,\n",
       "         420.,  420.,  421.,  421.,  421.,  421.,  421.,  422.,  422.,\n",
       "         422.,  422.,  423.,  424.,  424.,  425.,  425.,  425.,  426.,\n",
       "         428.,  429.,  430.,  430.,  430.,  430.,  430.,  431.,  431.,\n",
       "         433.,  433.,  433.,  433.,  433.,  434.,  434.,  435.,  436.,\n",
       "         437.,  437.,  437.,  437.,  437.,  437.,  437.,  437.,  438.,\n",
       "         440.,  441.,  442.,  443.,  443.,  444.,  445.,  445.,  445.,\n",
       "         445.,  445.,  445.,  446.,  447.,  451.,  451.,  453.,  454.,\n",
       "         457.,  458.,  460.,  461.,  462.,  465.,  465.,  468.,  470.,\n",
       "         476.,  481.,  488.,  494.,  495.,  500.,  502.,  509.,  513.,\n",
       "         519.,  532.,  546.,  558.,  570.,  585.,  609., 1000.]),\n",
       " array([  1.,   2.,   3.,   4.,   5.,   6.,   7.,   8.,   9.,  10.,  11.,\n",
       "         12.,  13.,  14.,  15.,  16.,  17.,  18.,  19.,  20.,  21.,  22.,\n",
       "         23.,  24.,  25.,  26.,  27.,  28.,  29.,  30.,  31.,  32.,  33.,\n",
       "         34.,  35.,  36.,  37.,  38.,  39.,  40.,  41.,  42.,  43.,  44.,\n",
       "         45.,  46.,  47.,  48.,  49.,  50.,  51.,  52.,  53.,  54.,  55.,\n",
       "         56.,  57.,  58.,  59.,  60.,  61.,  62.,  63.,  64.,  65.,  66.,\n",
       "         67.,  68.,  69.,  70.,  71.,  72.,  73.,  74.,  75.,  76.,  77.,\n",
       "         78.,  79.,  80.,  81.,  82.,  83.,  84.,  85.,  86.,  87.,  88.,\n",
       "         89.,  90.,  91.,  92.,  93.,  94.,  95.,  96.,  97.,  98.,  99.,\n",
       "        100., 101., 102., 103., 104., 105., 106., 107., 108., 109., 110.,\n",
       "        111., 112., 113., 114., 115., 116., 117., 118., 119., 120., 121.,\n",
       "        122., 123., 124., 125., 126., 127., 128., 129., 130., 131., 132.,\n",
       "        133., 134., 135., 136., 137., 138., 139., 140., 141., 142., 143.,\n",
       "        144., 145., 146., 147., 148., 149., 150., 151., 152., 153., 154.,\n",
       "        155., 156., 157., 158., 159., 160., 161., 162., 163., 164., 165.,\n",
       "        166., 167., 168., 169., 170., 171., 172., 173., 174., 175., 176.,\n",
       "        177., 178., 179., 180., 181., 182., 183., 184., 185., 186., 187.,\n",
       "        188., 189., 190., 191., 192., 193., 194., 195., 196., 197., 198.,\n",
       "        199., 200., 201., 202., 203., 204., 205., 206., 207., 208., 209.,\n",
       "        210., 211., 212., 213., 214., 215., 216.]),\n",
       " <a list of 215 Patch objects>)"
      ]
     },
     "execution_count": 45,
     "metadata": {},
     "output_type": "execute_result"
    },
    {
     "data": {
      "image/png": "[encoded data removed]",
      "text/plain": [
       "<matplotlib.figure.Figure at 0x1514246ed0>"
      ]
     },
     "metadata": {},
     "output_type": "display_data"
    }
   ],
   "source": [
    "data = np.loadtxt(\"scores0.out.csv\", delimiter=\",\")\n",
    "plt.hist(data,215, cumulative=True)\n",
    "data = np.loadtxt(\"scores.out.csv\", delimiter=\",\")\n",
    "plt.hist(data,215, cumulative=True)\n",
    "data = np.loadtxt(\"scores1.out.csv\", delimiter=\",\")\n",
    "plt.hist(data,215, cumulative=True)"
   ]
  },
  {
   "cell_type": "code",
   "execution_count": null,
   "metadata": {},
   "outputs": [],
   "source": []
  },
  {
   "cell_type": "code",
   "execution_count": 8,
   "metadata": {},
   "outputs": [
    {
     "data": {
      "text/plain": [
       "216.0"
      ]
     },
     "execution_count": 8,
     "metadata": {},
     "output_type": "execute_result"
    }
   ],
   "source": [
    "np.max(data)"
   ]
  },
  {
   "cell_type": "code",
   "execution_count": null,
   "metadata": {},
   "outputs": [],
   "source": []
  }
 ],
 "metadata": {
  "kernelspec": {
   "display_name": "Python 3",
   "language": "python",
   "name": "python3"
  },
  "language_info": {
   "codemirror_mode": {
    "name": "ipython",
    "version": 2
   },
   "file_extension": ".py",
   "mimetype": "text/x-python",
   "name": "python",
   "nbconvert_exporter": "python",
   "pygments_lexer": "ipython2",
   "version": "2.7.14"
  }
 },
 "nbformat": 4,
 "nbformat_minor": 2
}
