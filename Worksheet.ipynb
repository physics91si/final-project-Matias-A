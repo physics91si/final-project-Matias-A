{
 "cells": [
  {
   "cell_type": "code",
   "execution_count": 1,
   "metadata": {},
   "outputs": [],
   "source": [
    "import numpy as np"
   ]
  },
  {
   "cell_type": "code",
   "execution_count": 29,
   "metadata": {},
   "outputs": [],
   "source": [
    "class Minefield:\n",
    "    '''\n",
    "    Initializes a minefield, either with custom size and mines (x,y,mines), or one of the 3 standard settings (1,2 or 3; from easy to hard)\n",
    "    Has the following attributes:\n",
    "    mines: x*y np-array with 1s at mines and 0s elsewhere\n",
    "    neighbors: x*y np-array, -1 at mines, otherwise the number of neighbor mines\n",
    "    guess(x,y): guesses a square, returns the number from neighbors\n",
    "    '''\n",
    "    def __init__(self, *args):\n",
    "        \n",
    "        if len(args)==1:\n",
    "            level = args[0]\n",
    "            if level==1:\n",
    "                args = (9,9,10)\n",
    "            elif level==2:\n",
    "                args = (16,16,40)\n",
    "            elif level==3:\n",
    "                args = (30,16,99)\n",
    "                \n",
    "        #Unpacks arguments\n",
    "        \n",
    "        x=args[0]\n",
    "        y=args[1]\n",
    "        mines=args[2]\n",
    "        self.mines = np.zeros((x,y))\n",
    "        if mines<0:\n",
    "            raise Exception(\"Negative number of mines\")\n",
    "        if mines>x*y:\n",
    "            raise Exception(\"Too many mines\")\n",
    "        for i in range(mines):\n",
    "            \n",
    "            #Fills the minefield\n",
    "            while True: \n",
    "                xmine=np.random.randint(0,x)\n",
    "                ymine=np.random.randint(0,y)\n",
    "                if self.mines[xmine,ymine]==0:\n",
    "                    break\n",
    "            self.mines[xmine,ymine]=1\n",
    "            \n",
    "        #initializes neighbors with mines as -1\n",
    "        self.neighbors=-self.mines\n",
    "        for i in range(x):\n",
    "            for j in range(y):\n",
    "                # loops over all the squares on the mine field\n",
    "                if self.mines[i,j]==1:\n",
    "                    #selects all the mines\n",
    "                    for k in range(-1,2):\n",
    "                        for l in range(-1,2):\n",
    "                            #loops over the 9 square block around the mine\n",
    "                            if i+k>=0 and i+k<x and j+l>=0 and j+l<y:\n",
    "                                #selects only squares inside the grid\n",
    "                                if self.neighbors[i+k,j+l]!=-1:\n",
    "                                    #makes sure the square is not a mine\n",
    "                                    self.neighbors[i+k,j+l]+=1\n",
    "                                    \n",
    "    def __str__(self):\n",
    "        \n",
    "        return \"Mines: \\n\" + np.array2string(self.mines) + \"\\nNeighbors: \\n\"+ np.array2string(self.neighbors)"
   ]
  },
  {
   "cell_type": "code",
   "execution_count": 31,
   "metadata": {},
   "outputs": [
    {
     "name": "stdout",
     "output_type": "stream",
     "text": [
      "Mines: \n",
      "[[0. 1. 0. 0. 0. 0. 1. 0. 0.]\n",
      " [0. 0. 0. 0. 1. 0. 0. 0. 0.]\n",
      " [1. 0. 0. 0. 0. 0. 0. 0. 0.]\n",
      " [0. 1. 0. 0. 0. 0. 1. 0. 0.]\n",
      " [0. 0. 0. 1. 0. 0. 0. 0. 0.]\n",
      " [0. 0. 0. 0. 0. 0. 0. 0. 0.]\n",
      " [0. 0. 0. 0. 0. 0. 0. 0. 0.]\n",
      " [1. 0. 0. 0. 0. 0. 0. 0. 1.]\n",
      " [1. 0. 0. 0. 0. 0. 0. 0. 0.]]\n",
      "Neighbors: \n",
      "[[ 1. -1.  1.  1.  1.  2. -1.  1. -0.]\n",
      " [ 2.  2.  1.  1. -1.  2.  1.  1. -0.]\n",
      " [-1.  2.  1.  1.  1.  2.  1.  1. -0.]\n",
      " [ 2. -1.  2.  1.  1.  1. -1.  1. -0.]\n",
      " [ 1.  1.  2. -1.  1.  1.  1.  1. -0.]\n",
      " [-0. -0.  1.  1.  1. -0. -0. -0. -0.]\n",
      " [ 1.  1. -0. -0. -0. -0. -0.  1.  1.]\n",
      " [-1.  2. -0. -0. -0. -0. -0.  1. -1.]\n",
      " [-1.  2. -0. -0. -0. -0. -0.  1.  1.]]\n"
     ]
    }
   ],
   "source": [
    "field = Minefield(1)\n",
    "print(field)"
   ]
  },
  {
   "cell_type": "code",
   "execution_count": null,
   "metadata": {},
   "outputs": [],
   "source": []
  }
 ],
 "metadata": {
  "kernelspec": {
   "display_name": "Python 3",
   "language": "python",
   "name": "python3"
  },
  "language_info": {
   "codemirror_mode": {
    "name": "ipython",
    "version": 2
   },
   "file_extension": ".py",
   "mimetype": "text/x-python",
   "name": "python",
   "nbconvert_exporter": "python",
   "pygments_lexer": "ipython2",
   "version": "2.7.14"
  }
 },
 "nbformat": 4,
 "nbformat_minor": 2
}
